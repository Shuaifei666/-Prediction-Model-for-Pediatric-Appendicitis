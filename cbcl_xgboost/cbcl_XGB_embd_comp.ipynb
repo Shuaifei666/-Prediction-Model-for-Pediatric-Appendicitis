{
 "cells": [
  {
   "cell_type": "markdown",
   "id": "1a841865-957c-4e7e-8849-20e7b53bb98d",
   "metadata": {},
   "source": [
    "# Import libraries"
   ]
  },
  {
   "cell_type": "code",
   "execution_count": 23,
   "id": "fdeb70f1-de4b-431e-83cc-62155f8e8c7d",
   "metadata": {},
   "outputs": [],
   "source": [
    "import shap\n",
    "import pymrmr\n",
    "import numpy as np\n",
    "import pandas as pd\n",
    "import matplotlib.pyplot as plt\n",
    "from xgboost import XGBClassifier\n",
    "from sklearn.pipeline import Pipeline\n",
    "from sklearn.decomposition import PCA\n",
    "from sklearn.preprocessing import PolynomialFeatures\n",
    "from sklearn.linear_model import LogisticRegressionCV\n",
    "from sklearn.ensemble import GradientBoostingClassifier,RandomForestClassifier\n",
    "from sklearn.feature_selection import VarianceThreshold, SelectKBest, f_classif,RFE\n",
    "from sklearn.model_selection import train_test_split, GridSearchCV,RepeatedStratifiedKFold\n",
    "from sklearn.metrics import accuracy_score, f1_score, classification_report, roc_auc_score, roc_curve,precision_recall_curve"
   ]
  },
  {
   "cell_type": "markdown",
   "id": "074a55d9-090b-47e2-88e3-486f942e7c90",
   "metadata": {},
   "source": [
    "# Read in data"
   ]
  },
  {
   "cell_type": "code",
   "execution_count": 25,
   "id": "13ec35aa-ca4d-4bae-969b-5e76b8e44aba",
   "metadata": {},
   "outputs": [],
   "source": [
    "# JIVE dataframes\n",
    "cbcl_jive = pd.read_csv('cbcl.jive.sc.fc.out.csv') # [463 rows x 116 columns]> [drop first c]\n",
    "cbcl_jive_embed = pd.read_csv('cbcl.jive.embed.csv') # [463 rows x 197 columns]> [drop first c]\n",
    "cbcl_df = pd.read_csv('cbcl.sc.match.csv') # [463 rows x 3748 columns]>\n",
    "cbcl_label = cbcl_df['CBCL'] # Name: CBCL, Length: 463, dtype: int64>\n",
    "\n",
    "# Embedding dataframes\n",
    "cbcl_fc_embed = pd.read_csv('cbcl_fc_node2vec_32embeddings_20wl.csv')# [463 rows x 3200 columns]>\n",
    "cbcl_sc_embed = pd.read_csv('cbcl_node2vec_32embeddings_20wl.csv') # [602 rows x 2784 columns]>\n",
    "\n",
    "# Vectorized dataframes\n",
    "cbcl_fc_df = pd.read_csv('updated_flattened_fc_matrices_level_150.csv') # 463 rows × 4952 columns\n",
    "cbcl_fc = cbcl_fc_df.filter(like='feature') # [463 rows x 4950 columns]>\n",
    "cbcl_fc_label = cbcl_fc_df['CBCL'] # Name: CBCL, Length: 463, dtype: float64>\n",
    "\n",
    "cbcl_sc_df = pd.read_csv('merged_dataset_cbcl.csv') # 602 rows × 3746 columns  \n",
    "cbcl_sc = cbcl_sc_df.filter(like='V') # [602 rows x 3741 columns]>\n",
    "cbcl_sc_label = cbcl_sc_df['CBCL'] # Name: CBCL, Length: 602, dtype: int64>"
   ]
  },
  {
   "cell_type": "markdown",
   "id": "7ab26859-a890-46fa-8a9b-de82a6f1dd70",
   "metadata": {},
   "source": [
    "# Helpers"
   ]
  },
  {
   "cell_type": "code",
   "execution_count": 26,
   "id": "055a45d9-c58c-4ab2-a3af-526a5eb5ddfe",
   "metadata": {},
   "outputs": [],
   "source": [
    "def find_best_threshold(y_true, y_prob):\n",
    "    precision, recall, thresholds = precision_recall_curve(y_true, y_prob)\n",
    "    f1_scores = 2 * (precision * recall) / (precision + recall)\n",
    "    best_threshold = thresholds[np.argmax(f1_scores)]\n",
    "    return best_threshold"
   ]
  },
  {
   "cell_type": "code",
   "execution_count": 27,
   "id": "a99b9455-f54f-4766-a1fb-ebdc2297344d",
   "metadata": {},
   "outputs": [],
   "source": [
    "def xgboost_4jive_pipeline(X, y, k_best=10, test_size=0.4, random_state=42, n_splits=5, n_repeats=3):\n",
    "    # Ensure all data is numeric\n",
    "    X = X.apply(pd.to_numeric, errors='coerce')\n",
    "    y = pd.to_numeric(y, errors='coerce')\n",
    "\n",
    "    # Drop any rows with NaN values resulting from the coercion\n",
    "    X.dropna(inplace=True)\n",
    "    y = y[y.index.isin(X.index)]\n",
    "\n",
    "    # Train-test split\n",
    "    X_train, X_test, y_train, y_test = train_test_split(X, y, test_size=test_size, random_state=random_state)\n",
    "\n",
    "    # Feature selection using SelectKBest\n",
    "    selector = SelectKBest(score_func=f_classif, k=k_best)\n",
    "    X_train_selected = selector.fit_transform(X_train, y_train)\n",
    "    X_test_selected = selector.transform(X_test)\n",
    "\n",
    "    # Cross-validation and training for XGBoost\n",
    "    xgb = XGBClassifier(random_state=random_state, eval_metric='logloss')\n",
    "    xgb_param_grid = {\n",
    "        'n_estimators': [100, 200],\n",
    "        'learning_rate': [0.01, 0.1, 0.2],\n",
    "        'max_depth': [3, 4, 5],\n",
    "        'min_child_weight': [1, 2, 4],\n",
    "        'subsample': [0.8, 1.0],\n",
    "        'colsample_bytree': [0.8, 1.0]\n",
    "    }\n",
    "\n",
    "    # Repeated Stratified K-Fold Cross Validation\n",
    "    cv = RepeatedStratifiedKFold(n_splits=n_splits, n_repeats=n_repeats, random_state=random_state)\n",
    "\n",
    "    # Perform cross-validation\n",
    "    grid_search = GridSearchCV(xgb, xgb_param_grid, cv=cv, scoring='roc_auc', n_jobs=-1)\n",
    "    grid_search.fit(X_train_selected, y_train)\n",
    "\n",
    "    # Get the best estimator\n",
    "    best_pipeline = grid_search.best_estimator_\n",
    "\n",
    "    # Predict and evaluate XGBoost\n",
    "    y_pred_prob_xgb = best_pipeline.predict_proba(X_test_selected)[:, 1]\n",
    "    y_pred_xgb = best_pipeline.predict(X_test_selected)\n",
    "    accuracy_xgb = accuracy_score(y_test, y_pred_xgb)\n",
    "    report_xgb = classification_report(y_test, y_pred_xgb)\n",
    "    auc_xgb = roc_auc_score(y_test, y_pred_prob_xgb)\n",
    "\n",
    "    return best_pipeline, grid_search.best_params_, accuracy_xgb, auc_xgb, report_xgb"
   ]
  },
  {
   "cell_type": "code",
   "execution_count": 28,
   "id": "ab42aefa-dd9d-44fd-b193-74356615711a",
   "metadata": {},
   "outputs": [],
   "source": [
    "def xgboost_pipeline(X, y, n_components=150, k_best=10, test_size=0.4, random_state=42, n_splits=5, n_repeats=3):\n",
    "    # Ensure all data is numeric\n",
    "    X = X.apply(pd.to_numeric, errors='coerce')\n",
    "    y = pd.to_numeric(y, errors='coerce')\n",
    "\n",
    "    # Drop any rows with NaN values resulting from the coercion\n",
    "    X.dropna(inplace=True)\n",
    "    y = y[y.index.isin(X.index)]\n",
    "\n",
    "    # Train-test split\n",
    "    X_train, X_test, y_train, y_test = train_test_split(X, y, test_size=test_size, random_state=random_state, shuffle=True)\n",
    "\n",
    "    # Constant Feature Elimination (CFE)\n",
    "    cfe = VarianceThreshold()\n",
    "    X_train_cfe = cfe.fit_transform(X_train)\n",
    "    X_test_cfe = cfe.transform(X_test)\n",
    "\n",
    "    # Perform PCA\n",
    "    pca = PCA(n_components=n_components)\n",
    "    X_train_pca = pca.fit_transform(X_train_cfe)\n",
    "    X_test_pca = pca.transform(X_test_cfe)\n",
    "\n",
    "    # Feature selection using SelectKBest\n",
    "    selector = SelectKBest(score_func=f_classif, k=k_best)\n",
    "    X_train_selected = selector.fit_transform(X_train_pca, y_train)\n",
    "    X_test_selected = selector.transform(X_test_pca)\n",
    "\n",
    "    # Cross-validation and training for XGBoost\n",
    "    xgb = XGBClassifier(random_state=random_state, eval_metric='logloss')\n",
    "    xgb_param_grid = {\n",
    "        'n_estimators': [100, 200],\n",
    "        'learning_rate': [0.01, 0.1, 0.2],\n",
    "        'max_depth': [3, 4, 5],\n",
    "        'min_child_weight': [1, 2, 4],\n",
    "        'subsample': [0.8, 1.0],\n",
    "        'colsample_bytree': [0.8, 1.0]\n",
    "    }\n",
    "\n",
    "    # Repeated Stratified K-Fold Cross Validation\n",
    "    cv = RepeatedStratifiedKFold(n_splits=n_splits, n_repeats=n_repeats, random_state=random_state)\n",
    "\n",
    "    # Perform cross-validation\n",
    "    grid_search = GridSearchCV(xgb, xgb_param_grid, cv=cv, scoring='roc_auc', n_jobs=-1)\n",
    "    grid_search.fit(X_train_selected, y_train)\n",
    "\n",
    "    # Get the best estimator\n",
    "    best_pipeline = grid_search.best_estimator_\n",
    "\n",
    "    # Predict and evaluate XGBoost\n",
    "    y_pred_prob_xgb = best_pipeline.predict_proba(X_test_selected)[:, 1]\n",
    "    y_pred_xgb = best_pipeline.predict(X_test_selected)\n",
    "    accuracy_xgb = accuracy_score(y_test, y_pred_xgb)\n",
    "    report_xgb = classification_report(y_test, y_pred_xgb)\n",
    "    auc_xgb = roc_auc_score(y_test, y_pred_prob_xgb)\n",
    "\n",
    "    return best_pipeline, grid_search.best_params_, accuracy_xgb, auc_xgb, report_xgb"
   ]
  },
  {
   "cell_type": "markdown",
   "id": "f0978709-b4a8-471d-bd3a-60d52bc40de4",
   "metadata": {},
   "source": [
    "# Main Codes"
   ]
  },
  {
   "cell_type": "markdown",
   "id": "5ef41627-fb55-42e8-b3e4-662069f59f0a",
   "metadata": {
    "tags": []
   },
   "source": [
    "## [JIVE SC&FC]"
   ]
  },
  {
   "cell_type": "code",
   "execution_count": 21,
   "id": "8ce4f549-074c-4ac3-88c1-24fe46519f16",
   "metadata": {},
   "outputs": [
    {
     "name": "stdout",
     "output_type": "stream",
     "text": [
      "Best Parameters: {'colsample_bytree': 1.0, 'learning_rate': 0.2, 'max_depth': 4, 'min_child_weight': 4, 'n_estimators': 200, 'subsample': 0.8}\n",
      "Accuracy: 0.4946236559139785\n",
      "AUC: 0.49536178107606677\n",
      "Classification Report:\n",
      "               precision    recall  f1-score   support\n",
      "\n",
      "           0       0.52      0.61      0.56        98\n",
      "           1       0.46      0.36      0.41        88\n",
      "\n",
      "    accuracy                           0.49       186\n",
      "   macro avg       0.49      0.49      0.48       186\n",
      "weighted avg       0.49      0.49      0.49       186\n",
      "\n"
     ]
    }
   ],
   "source": [
    "best_pipeline, best_params, accuracy, auc, report = xgboost_4jive_pipeline(cbcl_jive.iloc[: , 1:], cbcl_label)\n",
    "print(\"Best Parameters:\", best_params)\n",
    "print(\"Accuracy:\", accuracy)\n",
    "print(\"AUC:\", auc)\n",
    "print(\"Classification Report:\\n\", report)"
   ]
  },
  {
   "cell_type": "markdown",
   "id": "b4041da4-d7c0-446c-a41c-92794f193c58",
   "metadata": {
    "tags": []
   },
   "source": [
    "## [JIVE Embedding SC&FC]"
   ]
  },
  {
   "cell_type": "code",
   "execution_count": 9,
   "id": "490e9172-7c72-4609-8295-c198303d5baa",
   "metadata": {},
   "outputs": [
    {
     "name": "stdout",
     "output_type": "stream",
     "text": [
      "Best Parameters: {'colsample_bytree': 0.8, 'learning_rate': 0.01, 'max_depth': 3, 'min_child_weight': 1, 'n_estimators': 200, 'subsample': 0.8}\n",
      "Accuracy: 0.5268817204301075\n",
      "AUC: 0.5295686456400742\n",
      "Classification Report:\n",
      "               precision    recall  f1-score   support\n",
      "\n",
      "           0       0.54      0.63      0.58        98\n",
      "           1       0.50      0.41      0.45        88\n",
      "\n",
      "    accuracy                           0.53       186\n",
      "   macro avg       0.52      0.52      0.52       186\n",
      "weighted avg       0.52      0.53      0.52       186\n",
      "\n"
     ]
    }
   ],
   "source": [
    "best_pipeline, best_params, accuracy, auc, report = xgboost_4jive_pipeline(cbcl_jive_embed.iloc[: , 1:], cbcl_label)\n",
    "print(\"Best Parameters:\", best_params)\n",
    "print(\"Accuracy:\", accuracy)\n",
    "print(\"AUC:\", auc)\n",
    "print(\"Classification Report:\\n\", report)"
   ]
  },
  {
   "cell_type": "markdown",
   "id": "d3c088f3-e668-480b-b82e-04e1bae87052",
   "metadata": {},
   "source": [
    "## [SC]"
   ]
  },
  {
   "cell_type": "code",
   "execution_count": 29,
   "id": "430507a4-a8c9-4ba6-8b41-ab6f71f1b08a",
   "metadata": {},
   "outputs": [
    {
     "name": "stdout",
     "output_type": "stream",
     "text": [
      "Best Parameters: {'colsample_bytree': 0.8, 'learning_rate': 0.1, 'max_depth': 3, 'min_child_weight': 4, 'n_estimators': 100, 'subsample': 0.8}\n",
      "Accuracy: 0.4854771784232365\n",
      "AUC: 0.47741046831955924\n",
      "Classification Report:\n",
      "               precision    recall  f1-score   support\n",
      "\n",
      "           0       0.49      0.56      0.52       121\n",
      "           1       0.48      0.41      0.44       120\n",
      "\n",
      "    accuracy                           0.49       241\n",
      "   macro avg       0.48      0.49      0.48       241\n",
      "weighted avg       0.48      0.49      0.48       241\n",
      "\n"
     ]
    }
   ],
   "source": [
    "best_pipeline, best_params, accuracy, auc, report = xgboost_pipeline(cbcl_sc, cbcl_sc_label)\n",
    "print(\"Best Parameters:\", best_params)\n",
    "print(\"Accuracy:\", accuracy)\n",
    "print(\"AUC:\", auc)\n",
    "print(\"Classification Report:\\n\", report)"
   ]
  },
  {
   "cell_type": "markdown",
   "id": "a701430c-b8e6-4d32-840b-8276fa49426f",
   "metadata": {},
   "source": [
    "## [SC Embedding]"
   ]
  },
  {
   "cell_type": "code",
   "execution_count": 30,
   "id": "775608cc-206d-49af-af2b-f309467dba74",
   "metadata": {},
   "outputs": [
    {
     "name": "stdout",
     "output_type": "stream",
     "text": [
      "Best Parameters: {'colsample_bytree': 0.8, 'learning_rate': 0.01, 'max_depth': 3, 'min_child_weight': 4, 'n_estimators': 200, 'subsample': 0.8}\n",
      "Accuracy: 0.5145228215767634\n",
      "AUC: 0.5166666666666666\n",
      "Classification Report:\n",
      "               precision    recall  f1-score   support\n",
      "\n",
      "           0       0.51      0.58      0.54       121\n",
      "           1       0.51      0.45      0.48       120\n",
      "\n",
      "    accuracy                           0.51       241\n",
      "   macro avg       0.51      0.51      0.51       241\n",
      "weighted avg       0.51      0.51      0.51       241\n",
      "\n"
     ]
    }
   ],
   "source": [
    "best_pipeline, best_params, accuracy, auc, report = xgboost_pipeline(cbcl_sc_embed, cbcl_sc_label)\n",
    "print(\"Best Parameters:\", best_params)\n",
    "print(\"Accuracy:\", accuracy)\n",
    "print(\"AUC:\", auc)\n",
    "print(\"Classification Report:\\n\", report)"
   ]
  },
  {
   "cell_type": "markdown",
   "id": "ca172014-490a-4ad1-816b-6c88169f0bcd",
   "metadata": {
    "tags": []
   },
   "source": [
    "## [FC]"
   ]
  },
  {
   "cell_type": "code",
   "execution_count": 31,
   "id": "878b8dab-7386-4496-81ec-0dc8e7452d4e",
   "metadata": {},
   "outputs": [
    {
     "name": "stdout",
     "output_type": "stream",
     "text": [
      "Best Parameters: {'colsample_bytree': 0.8, 'learning_rate': 0.01, 'max_depth': 3, 'min_child_weight': 4, 'n_estimators': 200, 'subsample': 0.8}\n",
      "Accuracy: 0.5053763440860215\n",
      "AUC: 0.4928307123034228\n",
      "Classification Report:\n",
      "               precision    recall  f1-score   support\n",
      "\n",
      "         0.0       0.50      0.63      0.56        92\n",
      "         1.0       0.51      0.38      0.44        94\n",
      "\n",
      "    accuracy                           0.51       186\n",
      "   macro avg       0.51      0.51      0.50       186\n",
      "weighted avg       0.51      0.51      0.50       186\n",
      "\n"
     ]
    }
   ],
   "source": [
    "best_pipeline, best_params, accuracy, auc, report = xgboost_pipeline(cbcl_fc, cbcl_fc_label)\n",
    "print(\"Best Parameters:\", best_params)\n",
    "print(\"Accuracy:\", accuracy)\n",
    "print(\"AUC:\", auc)\n",
    "print(\"Classification Report:\\n\", report)"
   ]
  },
  {
   "cell_type": "markdown",
   "id": "5cbe45bd-35f7-4eed-bece-fc121267238c",
   "metadata": {},
   "source": [
    "## [FC Embedding]"
   ]
  },
  {
   "cell_type": "code",
   "execution_count": 32,
   "id": "70e66082-f912-4eaa-a278-e2136b9c584c",
   "metadata": {},
   "outputs": [
    {
     "name": "stdout",
     "output_type": "stream",
     "text": [
      "Best Parameters: {'colsample_bytree': 1.0, 'learning_rate': 0.1, 'max_depth': 3, 'min_child_weight': 1, 'n_estimators': 100, 'subsample': 0.8}\n",
      "Accuracy: 0.45698924731182794\n",
      "AUC: 0.4610314523589269\n",
      "Classification Report:\n",
      "               precision    recall  f1-score   support\n",
      "\n",
      "         0.0       0.46      0.58      0.51        92\n",
      "         1.0       0.45      0.34      0.39        94\n",
      "\n",
      "    accuracy                           0.46       186\n",
      "   macro avg       0.46      0.46      0.45       186\n",
      "weighted avg       0.46      0.46      0.45       186\n",
      "\n"
     ]
    }
   ],
   "source": [
    "best_pipeline, best_params, accuracy, auc, report = xgboost_pipeline(cbcl_fc_embed, cbcl_fc_label)\n",
    "print(\"Best Parameters:\", best_params)\n",
    "print(\"Accuracy:\", accuracy)\n",
    "print(\"AUC:\", auc)\n",
    "print(\"Classification Report:\\n\", report)"
   ]
  },
  {
   "cell_type": "code",
   "execution_count": null,
   "id": "923b4094-d978-4f0a-b11a-af6a938e34ad",
   "metadata": {},
   "outputs": [],
   "source": []
  }
 ],
 "metadata": {
  "kernelspec": {
   "display_name": "Python 3 (ipykernel)",
   "language": "python",
   "name": "python3"
  },
  "language_info": {
   "codemirror_mode": {
    "name": "ipython",
    "version": 3
   },
   "file_extension": ".py",
   "mimetype": "text/x-python",
   "name": "python",
   "nbconvert_exporter": "python",
   "pygments_lexer": "ipython3",
   "version": "3.10.9"
  },
  "toc-autonumbering": true
 },
 "nbformat": 4,
 "nbformat_minor": 5
}

{
 "cells": [
  {
   "cell_type": "markdown",
   "id": "1a841865-957c-4e7e-8849-20e7b53bb98d",
   "metadata": {},
   "source": [
    "# Import libraries"
   ]
  },
  {
   "cell_type": "code",
   "execution_count": 2,
   "id": "fdeb70f1-de4b-431e-83cc-62155f8e8c7d",
   "metadata": {},
   "outputs": [],
   "source": [
    "import shap\n",
    "import numpy as np\n",
    "import pandas as pd\n",
    "import matplotlib.pyplot as plt\n",
    "from xgboost import XGBClassifier\n",
    "from sklearn.pipeline import Pipeline\n",
    "from sklearn.decomposition import PCA\n",
    "from sklearn.preprocessing import PolynomialFeatures\n",
    "from sklearn.linear_model import LogisticRegressionCV\n",
    "from sklearn.ensemble import GradientBoostingClassifier,RandomForestClassifier\n",
    "from sklearn.feature_selection import VarianceThreshold, SelectKBest, f_classif,RFE\n",
    "from sklearn.model_selection import train_test_split, GridSearchCV,RepeatedStratifiedKFold\n",
    "from sklearn.metrics import accuracy_score, f1_score, classification_report, roc_auc_score, roc_curve,precision_recall_curve"
   ]
  },
  {
   "cell_type": "markdown",
   "id": "074a55d9-090b-47e2-88e3-486f942e7c90",
   "metadata": {},
   "source": [
    "# Read in data"
   ]
  },
  {
   "cell_type": "code",
   "execution_count": 3,
   "id": "13ec35aa-ca4d-4bae-969b-5e76b8e44aba",
   "metadata": {},
   "outputs": [],
   "source": [
    "# JIVE dataframes\n",
    "cbcl_jive = pd.read_csv('cbcl.jive.sc.fc.out.csv') # [463 rows x 116 columns]> [drop first c]\n",
    "cbcl_jive_embed = pd.read_csv('cbcl.jive.embed.csv') # [463 rows x 197 columns]> [drop first c]\n",
    "cbcl_df = pd.read_csv('cbcl.sc.match.csv') # [463 rows x 3748 columns]>\n",
    "cbcl_label = cbcl_df['CBCL'] # Name: CBCL, Length: 463, dtype: int64>\n",
    "\n",
    "# Embedding dataframes\n",
    "cbcl_fc_embed = pd.read_csv('cbcl_fc_node2vec_32embeddings_20wl.csv')# [463 rows x 3200 columns]>\n",
    "cbcl_sc_embed = pd.read_csv('cbcl_node2vec_32embeddings_20wl.csv') # [602 rows x 2784 columns]>\n",
    "\n",
    "# Vectorized dataframes\n",
    "cbcl_fc_df = pd.read_csv('updated_flattened_fc_matrices_level_150.csv') # 463 rows × 4952 columns\n",
    "cbcl_fc = cbcl_fc_df.filter(like='feature') # [463 rows x 4950 columns]>\n",
    "cbcl_fc_label = cbcl_fc_df['CBCL'] # Name: CBCL, Length: 463, dtype: float64>\n",
    "\n",
    "cbcl_sc_df = pd.read_csv('merged_dataset_cbcl.csv') # 602 rows × 3746 columns  \n",
    "cbcl_sc = cbcl_sc_df.filter(like='V') # [602 rows x 3741 columns]>\n",
    "cbcl_sc_label = cbcl_sc_df['CBCL'] # Name: CBCL, Length: 602, dtype: int64>"
   ]
  },
  {
   "cell_type": "markdown",
   "id": "7ab26859-a890-46fa-8a9b-de82a6f1dd70",
   "metadata": {},
   "source": [
    "# Helpers"
   ]
  },
  {
   "cell_type": "code",
   "execution_count": 6,
   "id": "055a45d9-c58c-4ab2-a3af-526a5eb5ddfe",
   "metadata": {},
   "outputs": [],
   "source": [
    "def find_best_threshold(y_true, y_prob):\n",
    "    precision, recall, thresholds = precision_recall_curve(y_true, y_prob)\n",
    "    f1_scores = 2 * (precision * recall) / (precision + recall)\n",
    "    best_threshold = thresholds[np.argmax(f1_scores)]\n",
    "    return best_threshold"
   ]
  },
  {
   "cell_type": "code",
   "execution_count": 18,
   "id": "f9b1d978-45e8-4d41-9b8b-2dbf79b197f7",
   "metadata": {},
   "outputs": [],
   "source": [
    "def shap_feature_selection(X_train, y_train, k_best=10, random_state=42):\n",
    "    # Train a preliminary XGBoost model\n",
    "    model = XGBClassifier(random_state=random_state, eval_metric='logloss')\n",
    "    model.fit(X_train, y_train)\n",
    "\n",
    "    # Calculate SHAP values\n",
    "    explainer = shap.Explainer(model, X_train)\n",
    "    shap_values = explainer(X_train)\n",
    "\n",
    "    # Get mean absolute SHAP values for each feature\n",
    "    shap_importance = np.abs(shap_values.values).mean(axis=0)\n",
    "    shap_importance_df = pd.DataFrame({\n",
    "        'feature': X_train.columns,\n",
    "        'shap_importance': shap_importance\n",
    "    })\n",
    "\n",
    "    # Select top k features based on SHAP values\n",
    "    top_features = shap_importance_df.sort_values(by='shap_importance', ascending=False).head(k_best)['feature'].values\n",
    "    return X_train[top_features], top_features\n"
   ]
  },
  {
   "cell_type": "code",
   "execution_count": 19,
   "id": "e3fa0cb3-9f57-4d5b-9a5f-ffb11e9075a2",
   "metadata": {},
   "outputs": [],
   "source": [
    "def xgboost_shap_4jive(X, y, k_best=10, test_size=0.4, random_state=42, n_splits=5, n_repeats=3):\n",
    "    # Ensure all data is numeric\n",
    "    X = X.apply(pd.to_numeric, errors='coerce')\n",
    "    y = pd.to_numeric(y, errors='coerce')\n",
    "\n",
    "    # Drop any rows with NaN values resulting from the coercion\n",
    "    X.dropna(inplace=True)\n",
    "    y = y[y.index.isin(X.index)]\n",
    "\n",
    "    # Train-test split\n",
    "    X_train, X_test, y_train, y_test = train_test_split(X, y, test_size=test_size, random_state=random_state)\n",
    "\n",
    "    # Feature selection using SHAP values\n",
    "    X_train_selected, top_features = shap_feature_selection(X_train, y_train, k_best=k_best, random_state=random_state)\n",
    "    X_test_selected = X_test[top_features]\n",
    "\n",
    "    # Cross-validation and training for XGBoost\n",
    "    xgb = XGBClassifier(random_state=random_state, eval_metric='logloss')\n",
    "    xgb_param_grid = {\n",
    "        'n_estimators': [100, 200],\n",
    "        'learning_rate': [0.01, 0.1, 0.2],\n",
    "        'max_depth': [3, 4, 5],\n",
    "        'min_child_weight': [1, 2, 4],\n",
    "        'subsample': [0.8, 1.0],\n",
    "        'colsample_bytree': [0.8, 1.0]\n",
    "    }\n",
    "\n",
    "    # Repeated Stratified K-Fold Cross Validation\n",
    "    cv = RepeatedStratifiedKFold(n_splits=n_splits, n_repeats=n_repeats, random_state=random_state)\n",
    "\n",
    "    # Perform cross-validation\n",
    "    grid_search = GridSearchCV(xgb, xgb_param_grid, cv=cv, scoring='roc_auc', n_jobs=-1)\n",
    "    grid_search.fit(X_train_selected, y_train)\n",
    "\n",
    "    # Get the best estimator\n",
    "    best_pipeline = grid_search.best_estimator_\n",
    "\n",
    "    # Predict probabilities on the training set\n",
    "    y_train_prob = best_pipeline.predict_proba(X_train_selected)[:, 1]\n",
    "\n",
    "    # Find the best threshold based on the training set\n",
    "    best_threshold = find_best_threshold(y_train, y_train_prob)\n",
    "\n",
    "    # Predict probabilities on the test set\n",
    "    y_test_prob = best_pipeline.predict_proba(X_test_selected)[:, 1]\n",
    "\n",
    "    # Apply the best threshold to the test set\n",
    "    y_pred_xgb = (y_test_prob >= best_threshold).astype(int)\n",
    "\n",
    "    # Evaluate the model\n",
    "    accuracy_xgb = accuracy_score(y_test, y_pred_xgb)\n",
    "    report_xgb = classification_report(y_test, y_pred_xgb)\n",
    "    auc_xgb = roc_auc_score(y_test, y_test_prob)\n",
    "\n",
    "    return best_pipeline, grid_search.best_params_, accuracy_xgb, auc_xgb, report_xgb, best_threshold\n"
   ]
  },
  {
   "cell_type": "code",
   "execution_count": 22,
   "id": "ab42aefa-dd9d-44fd-b193-74356615711a",
   "metadata": {},
   "outputs": [],
   "source": [
    "def xgboost_shap(X, y, n_components=50, k_best=10, test_size=0.4, random_state=42, n_splits=5, n_repeats=3):\n",
    "    # Ensure all data is numeric\n",
    "    X = X.apply(pd.to_numeric, errors='coerce')\n",
    "    y = pd.to_numeric(y, errors='coerce')\n",
    "\n",
    "    # Drop any rows with NaN values resulting from the coercion\n",
    "    X.dropna(inplace=True)\n",
    "    y = y[y.index.isin(X.index)]\n",
    "\n",
    "    # Train-test split\n",
    "    X_train, X_test, y_train, y_test = train_test_split(X, y, test_size=test_size, random_state=random_state, shuffle=True)\n",
    "\n",
    "    # Constant Feature Elimination (CFE)\n",
    "    cfe = VarianceThreshold()\n",
    "    X_train_cfe = cfe.fit_transform(X_train)\n",
    "    X_test_cfe = cfe.transform(X_test)\n",
    "\n",
    "    # Perform PCA\n",
    "    pca = PCA(n_components=n_components)\n",
    "    X_train_pca = pca.fit_transform(X_train_cfe)\n",
    "    X_test_pca = pca.transform(X_test_cfe)\n",
    "\n",
    "    # Feature selection using SHAP values\n",
    "    X_train_selected, top_features = shap_feature_selection(pd.DataFrame(X_train_pca), y_train, k_best=k_best, random_state=random_state)\n",
    "    X_test_selected = pd.DataFrame(X_test_pca)[top_features]\n",
    "\n",
    "    # Cross-validation and training for XGBoost\n",
    "    xgb = XGBClassifier(random_state=random_state, eval_metric='logloss')\n",
    "    xgb_param_grid = {\n",
    "        'n_estimators': [100, 200],\n",
    "        'learning_rate': [0.01, 0.1, 0.2],\n",
    "        'max_depth': [3, 4, 5],\n",
    "        'min_child_weight': [1, 2, 4],\n",
    "        'subsample': [0.8, 1.0],\n",
    "        'colsample_bytree': [0.8, 1.0]\n",
    "    }\n",
    "\n",
    "    # Repeated Stratified K-Fold Cross Validation\n",
    "    cv = RepeatedStratifiedKFold(n_splits=n_splits, n_repeats=n_repeats, random_state=random_state)\n",
    "\n",
    "    # Perform cross-validation\n",
    "    grid_search = GridSearchCV(xgb, xgb_param_grid, cv=cv, scoring='roc_auc', n_jobs=-1)\n",
    "    grid_search.fit(X_train_selected, y_train)\n",
    "\n",
    "    # Get the best estimator\n",
    "    best_pipeline = grid_search.best_estimator_\n",
    "\n",
    "    # Predict probabilities on the training set\n",
    "    y_train_prob = best_pipeline.predict_proba(X_train_selected)[:, 1]\n",
    "\n",
    "    # Find the best threshold based on the training set\n",
    "    best_threshold = find_best_threshold(y_train, y_train_prob)\n",
    "\n",
    "    # Predict probabilities on the test set\n",
    "    y_test_prob = best_pipeline.predict_proba(X_test_selected)[:, 1]\n",
    "\n",
    "    # Apply the best threshold to the test set\n",
    "    y_pred_xgb = (y_test_prob >= best_threshold).astype(int)\n",
    "\n",
    "    # Evaluate the model\n",
    "    accuracy_xgb = accuracy_score(y_test, y_pred_xgb)\n",
    "    report_xgb = classification_report(y_test, y_pred_xgb)\n",
    "    auc_xgb = roc_auc_score(y_test, y_test_prob)\n",
    "\n",
    "    return best_pipeline, grid_search.best_params_, accuracy_xgb, auc_xgb, report_xgb, best_threshold\n"
   ]
  },
  {
   "cell_type": "markdown",
   "id": "f0978709-b4a8-471d-bd3a-60d52bc40de4",
   "metadata": {},
   "source": [
    "# Main Codes"
   ]
  },
  {
   "cell_type": "markdown",
   "id": "5ef41627-fb55-42e8-b3e4-662069f59f0a",
   "metadata": {
    "tags": []
   },
   "source": [
    "## [JIVE SC&FC]"
   ]
  },
  {
   "cell_type": "code",
   "execution_count": 9,
   "id": "a7a6898d-189a-4938-bab6-b8c26a9f1037",
   "metadata": {},
   "outputs": [
    {
     "name": "stdout",
     "output_type": "stream",
     "text": [
      "Best Parameters: {'colsample_bytree': 0.8, 'learning_rate': 0.2, 'max_depth': 4, 'min_child_weight': 4, 'n_estimators': 200, 'subsample': 1.0}\n",
      "Accuracy: 0.553763440860215\n",
      "AUC: 0.5587894248608535\n",
      "Classification Report:\n",
      "               precision    recall  f1-score   support\n",
      "\n",
      "           0       0.56      0.77      0.64        98\n",
      "           1       0.55      0.32      0.40        88\n",
      "\n",
      "    accuracy                           0.55       186\n",
      "   macro avg       0.55      0.54      0.52       186\n",
      "weighted avg       0.55      0.55      0.53       186\n",
      "\n",
      "Best Threshold: 0.7102117\n"
     ]
    }
   ],
   "source": [
    "best_pipeline, best_params, accuracy, auc, report, best_threshold = xgboost_shap_4jive(cbcl_jive.iloc[: , 1:], cbcl_label)\n",
    "print(\"Best Parameters:\", best_params)\n",
    "print(\"Accuracy:\", accuracy)\n",
    "print(\"AUC:\", auc)\n",
    "print(\"Classification Report:\\n\", report)\n",
    "print(\"Best Threshold:\", best_threshold)"
   ]
  },
  {
   "cell_type": "markdown",
   "id": "b4041da4-d7c0-446c-a41c-92794f193c58",
   "metadata": {
    "tags": []
   },
   "source": [
    "## [JIVE Embedding SC&FC]"
   ]
  },
  {
   "cell_type": "code",
   "execution_count": 32,
   "id": "f5442c4c-6590-4c32-8d00-c2e3d5530f06",
   "metadata": {},
   "outputs": [
    {
     "name": "stdout",
     "output_type": "stream",
     "text": [
      "Best Parameters: {'colsample_bytree': 1.0, 'learning_rate': 0.2, 'max_depth': 4, 'min_child_weight': 4, 'n_estimators': 200, 'subsample': 0.8}\n",
      "Accuracy: 0.532258064516129\n",
      "AUC: 0.5349025974025975\n",
      "Classification Report:\n",
      "               precision    recall  f1-score   support\n",
      "\n",
      "           0       0.55      0.65      0.60        98\n",
      "           1       0.51      0.40      0.45        88\n",
      "\n",
      "    accuracy                           0.53       186\n",
      "   macro avg       0.53      0.53      0.52       186\n",
      "weighted avg       0.53      0.53      0.52       186\n",
      "\n",
      "Best Threshold: 0.6069401\n"
     ]
    }
   ],
   "source": [
    "best_pipeline, best_params, accuracy, auc, report, best_threshold = xgboost_shap_4jive(cbcl_jive_embed.iloc[: , 1:], cbcl_label)\n",
    "print(\"Best Parameters:\", best_params)\n",
    "print(\"Accuracy:\", accuracy)\n",
    "print(\"AUC:\", auc)\n",
    "print(\"Classification Report:\\n\", report)\n",
    "print(\"Best Threshold:\", best_threshold)"
   ]
  },
  {
   "cell_type": "markdown",
   "id": "d3c088f3-e668-480b-b82e-04e1bae87052",
   "metadata": {},
   "source": [
    "## [SC]"
   ]
  },
  {
   "cell_type": "code",
   "execution_count": 23,
   "id": "0c195502-bad6-42bf-a339-ae765379cd73",
   "metadata": {},
   "outputs": [
    {
     "name": "stdout",
     "output_type": "stream",
     "text": [
      "Best Parameters: {'colsample_bytree': 1.0, 'learning_rate': 0.01, 'max_depth': 5, 'min_child_weight': 1, 'n_estimators': 200, 'subsample': 0.8}\n",
      "Accuracy: 0.5601659751037344\n",
      "AUC: 0.5178374655647383\n",
      "Classification Report:\n",
      "               precision    recall  f1-score   support\n",
      "\n",
      "           0       0.56      0.61      0.58       121\n",
      "           1       0.56      0.51      0.54       120\n",
      "\n",
      "    accuracy                           0.56       241\n",
      "   macro avg       0.56      0.56      0.56       241\n",
      "weighted avg       0.56      0.56      0.56       241\n",
      "\n",
      "Best Threshold: 0.4620566\n"
     ]
    }
   ],
   "source": [
    "best_pipeline, best_params, accuracy, auc, report, best_threshold = xgboost_shap(cbcl_sc, cbcl_sc_label)\n",
    "print(\"Best Parameters:\", best_params)\n",
    "print(\"Accuracy:\", accuracy)\n",
    "print(\"AUC:\", auc)\n",
    "print(\"Classification Report:\\n\", report)\n",
    "print(\"Best Threshold:\", best_threshold)"
   ]
  },
  {
   "cell_type": "markdown",
   "id": "a701430c-b8e6-4d32-840b-8276fa49426f",
   "metadata": {},
   "source": [
    "## [SC Embedding]"
   ]
  },
  {
   "cell_type": "code",
   "execution_count": null,
   "id": "9691b203-836d-43b8-9a3a-e43968016e95",
   "metadata": {},
   "outputs": [],
   "source": [
    "best_pipeline, best_params, accuracy, auc, report, best_threshold = xgboost_shap(cbcl_sc_embed, cbcl_sc_label)\n",
    "print(\"Best Parameters:\", best_params)\n",
    "print(\"Accuracy:\", accuracy)\n",
    "print(\"AUC:\", auc)\n",
    "print(\"Classification Report:\\n\", report)\n",
    "print(\"Best Threshold:\", best_threshold)"
   ]
  },
  {
   "cell_type": "markdown",
   "id": "ca172014-490a-4ad1-816b-6c88169f0bcd",
   "metadata": {
    "tags": []
   },
   "source": [
    "## [FC]"
   ]
  },
  {
   "cell_type": "code",
   "execution_count": 34,
   "id": "6807f818-bb25-4bee-b757-760f1f23575e",
   "metadata": {},
   "outputs": [
    {
     "name": "stdout",
     "output_type": "stream",
     "text": [
      "Best Parameters: {'colsample_bytree': 1.0, 'learning_rate': 0.1, 'max_depth': 3, 'min_child_weight': 2, 'n_estimators': 200, 'subsample': 0.8}\n",
      "Accuracy: 0.5\n",
      "AUC: 0.5612858464384829\n",
      "Classification Report:\n",
      "               precision    recall  f1-score   support\n",
      "\n",
      "         0.0       0.50      0.65      0.56        92\n",
      "         1.0       0.51      0.35      0.42        94\n",
      "\n",
      "    accuracy                           0.50       186\n",
      "   macro avg       0.50      0.50      0.49       186\n",
      "weighted avg       0.50      0.50      0.49       186\n",
      "\n",
      "Best Threshold: 0.59834164\n"
     ]
    }
   ],
   "source": [
    "best_pipeline, best_params, accuracy, auc, report, best_threshold = xgboost_shap(cbcl_fc, cbcl_fc_label)\n",
    "print(\"Best Parameters:\", best_params)\n",
    "print(\"Accuracy:\", accuracy)\n",
    "print(\"AUC:\", auc)\n",
    "print(\"Classification Report:\\n\", report)\n",
    "print(\"Best Threshold:\", best_threshold)"
   ]
  },
  {
   "cell_type": "markdown",
   "id": "5cbe45bd-35f7-4eed-bece-fc121267238c",
   "metadata": {},
   "source": [
    "## [FC Embedding]"
   ]
  },
  {
   "cell_type": "code",
   "execution_count": 27,
   "id": "429b9bcf-5ba7-4247-a16a-b3a2df1ba701",
   "metadata": {},
   "outputs": [
    {
     "name": "stdout",
     "output_type": "stream",
     "text": [
      "Best Parameters: {'colsample_bytree': 1.0, 'learning_rate': 0.1, 'max_depth': 3, 'min_child_weight': 1, 'n_estimators': 100, 'subsample': 0.8}\n",
      "Accuracy: 0.553763440860215\n",
      "AUC: 0.5254394079555966\n",
      "Classification Report:\n",
      "               precision    recall  f1-score   support\n",
      "\n",
      "         0.0       0.53      0.78      0.63        92\n",
      "         1.0       0.61      0.33      0.43        94\n",
      "\n",
      "    accuracy                           0.55       186\n",
      "   macro avg       0.57      0.56      0.53       186\n",
      "weighted avg       0.57      0.55      0.53       186\n",
      "\n",
      "Best Threshold: 0.5371731\n"
     ]
    }
   ],
   "source": [
    "best_pipeline, best_params, accuracy, auc, report, best_threshold = xgboost_shap(cbcl_fc_embed, cbcl_fc_label)\n",
    "print(\"Best Parameters:\", best_params)\n",
    "print(\"Accuracy:\", accuracy)\n",
    "print(\"AUC:\", auc)\n",
    "print(\"Classification Report:\\n\", report)\n",
    "print(\"Best Threshold:\", best_threshold)"
   ]
  }
 ],
 "metadata": {
  "kernelspec": {
   "display_name": "Python 3 (ipykernel)",
   "language": "python",
   "name": "python3"
  },
  "language_info": {
   "codemirror_mode": {
    "name": "ipython",
    "version": 3
   },
   "file_extension": ".py",
   "mimetype": "text/x-python",
   "name": "python",
   "nbconvert_exporter": "python",
   "pygments_lexer": "ipython3",
   "version": "3.10.9"
  },
  "toc-autonumbering": true
 },
 "nbformat": 4,
 "nbformat_minor": 5
}
